{
  "nbformat": 4,
  "nbformat_minor": 0,
  "metadata": {
    "colab": {
      "name": "Untitled1.ipynb",
      "provenance": [],
      "authorship_tag": "ABX9TyM1Baogiy5IRV6hBnRQ0tjM"
    },
    "kernelspec": {
      "name": "python3",
      "display_name": "Python 3"
    },
    "language_info": {
      "name": "python"
    }
  },
  "cells": [
    {
      "cell_type": "code",
      "execution_count": null,
      "metadata": {
        "id": "lW1ikhCP4u9k"
      },
      "outputs": [],
      "source": [
        "# SETTING UP PROCESS\n",
        "!yes | add-apt-repository ppa:mscore-ubuntu/mscore3-stable\n",
        "!apt update\n",
        "!apt install musescore3\n",
        "!pip install music21==7.1.0\n",
        "print(\"Music21 is installed!\")\n",
        "from music21 import *\n",
        "us = environment.UserSettings()\n",
        "environment.set('pdfPath', '/usr/bin/musescore3')\n",
        "environment.set('graphicsPath', '/usr/bin/musescore3')\n",
        "environment.set(\"musescoreDirectPNGPath\", \"/usr/bin/musescore3\")\n",
        "environment.set(\"musicxmlPath\", \"/usr/bin/musescore3\")\n",
        "%env QT_QPA_PLATFORM=offscreen"
      ]
    },
    {
      "cell_type": "code",
      "source": [
        "n1 = note.Note('C')"
      ],
      "metadata": {
        "id": "cMDeK1405iH6"
      },
      "execution_count": 16,
      "outputs": []
    },
    {
      "cell_type": "code",
      "source": [
        "n1.show()"
      ],
      "metadata": {
        "id": "cy8YOJt75uad",
        "outputId": "917b6a78-3379-48b6-8b6f-e7d5ac02d26d",
        "colab": {
          "base_uri": "https://localhost:8080/",
          "height": 67
        }
      },
      "execution_count": 17,
      "outputs": [
        {
          "output_type": "display_data",
          "data": {
            "image/png": "[encoded data removed]",
            "text/plain": [
              "<IPython.core.display.Image object>"
            ]
          },
          "metadata": {
            "image/png": {
              "width": 136,
              "height": 50
            }
          }
        }
      ]
    }
  ]
}