{
 "cells": [
  {
   "cell_type": "markdown",
   "id": "d5c98fb9",
   "metadata": {},
   "source": [
    "#Enseñando teoría a través de Music21"
   ]
  },
  {
   "cell_type": "code",
   "execution_count": 1,
   "id": "4538d6fa",
   "metadata": {},
   "outputs": [],
   "source": [
    "from music21 import *\n",
    "from ipywidgets import widgets\n",
    "from IPython.display import display\n",
    "\n",
    "w = widgets.IntSlider(\n",
    "    min=0,\n",
    "    max=10,\n",
    "    step=1)"
   ]
  },
  {
   "cell_type": "code",
   "execution_count": null,
   "id": "51481ec0",
   "metadata": {},
   "outputs": [],
   "source": [
    "s = stream.Stream()"
   ]
  },
  {
   "cell_type": "code",
   "execution_count": null,
   "id": "87c2f2e8",
   "metadata": {},
   "outputs": [],
   "source": [
    "p = converter.parse('lamentabatur_jacob_(c)alvarez.xml')"
   ]
  },
  {
   "cell_type": "code",
   "execution_count": null,
   "id": "896866b3",
   "metadata": {},
   "outputs": [],
   "source": [
    "display(w)"
   ]
  },
  {
   "cell_type": "code",
   "execution_count": null,
   "id": "384cd550",
   "metadata": {},
   "outputs": [],
   "source": []
  },
  {
   "cell_type": "code",
   "execution_count": null,
   "id": "2b9fae1d",
   "metadata": {},
   "outputs": [],
   "source": [
    "c = chord.Chord(\"C4 E4 G4\")\n",
    "c.isConsonant()"
   ]
  },
  {
   "cell_type": "code",
   "execution_count": null,
   "id": "30912e58",
   "metadata": {},
   "outputs": [],
   "source": [
    "c = chord.Chord(\"C4 E4 G4\")\n",
    "c.isMinorTriad()"
   ]
  },
  {
   "cell_type": "code",
   "execution_count": null,
   "id": "7091de9d",
   "metadata": {},
   "outputs": [],
   "source": [
    "s.append(c)\n",
    "s.show()"
   ]
  },
  {
   "cell_type": "code",
   "execution_count": null,
   "id": "1c9fa479",
   "metadata": {},
   "outputs": [],
   "source": []
  },
  {
   "cell_type": "code",
   "execution_count": null,
   "id": "637552c8",
   "metadata": {},
   "outputs": [],
   "source": []
  }
 ],
 "metadata": {
  "kernelspec": {
   "display_name": "Python 3",
   "language": "python",
   "name": "python3"
  },
  "language_info": {
   "codemirror_mode": {
    "name": "ipython",
    "version": 3
   },
   "file_extension": ".py",
   "mimetype": "text/x-python",
   "name": "python",
   "nbconvert_exporter": "python",
   "pygments_lexer": "ipython3",
   "version": "3.8.10"
  }
 },
 "nbformat": 4,
 "nbformat_minor": 5
}
