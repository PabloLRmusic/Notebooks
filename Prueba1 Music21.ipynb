{
 "cells": [
  {
   "cell_type": "markdown",
   "id": "d5c98fb9",
   "metadata": {},
   "source": [
    "#Enseñando teoría a través de Music21"
   ]
  },
  {
   "cell_type": "code",
   "execution_count": 1,
   "id": "4538d6fa",
   "metadata": {},
   "outputs": [],
   "source": [
    "from music21 import *\n",
    "s = stream.Stream()"
   ]
  },
  {
   "cell_type": "code",
   "execution_count": 2,
   "id": "2b9fae1d",
   "metadata": {},
   "outputs": [
    {
     "data": {
      "text/plain": [
       "True"
      ]
     },
     "execution_count": 2,
     "metadata": {},
     "output_type": "execute_result"
    }
   ],
   "source": [
    "c = chord.Chord(\"C4 E4 G4\")\n",
    "c.isConsonant()"
   ]
  },
  {
   "cell_type": "code",
   "execution_count": null,
   "id": "30912e58",
   "metadata": {},
   "outputs": [],
   "source": [
    "c = chord.Chord(\"C4 E4 G4\")\n",
    "c.isMinorTriad()"
   ]
  },
  {
   "cell_type": "code",
   "execution_count": 3,
   "id": "7091de9d",
   "metadata": {},
   "outputs": [
    {
     "data": {
      "image/png": "[encoded data removed]",
      "text/plain": [
       "<IPython.core.display.Image object>"
      ]
     },
     "metadata": {
      "image/png": {
       "height": 50,
       "width": 179
      }
     },
     "output_type": "display_data"
    }
   ],
   "source": [
    "s.append(c)\n",
    "s.show()"
   ]
  },
  {
   "cell_type": "code",
   "execution_count": null,
   "id": "2a7023bf",
   "metadata": {},
   "outputs": [],
   "source": []
  }
 ],
 "metadata": {
  "kernelspec": {
   "display_name": "Python 3",
   "language": "python",
   "name": "python3"
  },
  "language_info": {
   "codemirror_mode": {
    "name": "ipython",
    "version": 3
   },
   "file_extension": ".py",
   "mimetype": "text/x-python",
   "name": "python",
   "nbconvert_exporter": "python",
   "pygments_lexer": "ipython3",
   "version": "3.8.10"
  }
 },
 "nbformat": 4,
 "nbformat_minor": 5
}
